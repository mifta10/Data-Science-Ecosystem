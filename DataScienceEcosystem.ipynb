{
  "metadata": {
    "kernelspec": {
      "name": "python",
      "display_name": "Python (Pyodide)",
      "language": "python"
    },
    "language_info": {
      "codemirror_mode": {
        "name": "python",
        "version": 3
      },
      "file_extension": ".py",
      "mimetype": "text/x-python",
      "name": "python",
      "nbconvert_exporter": "python",
      "pygments_lexer": "ipython3",
      "version": "3.8"
    }
  },
  "nbformat_minor": 5,
  "nbformat": 4,
  "cells": [
    {
      "cell_type": "markdown",
      "source": "Title: Data Science Ecosystem",
      "metadata": {},
      "id": "926e529c-9564-4f37-ad45-b47d479b2e82"
    },
    {
      "cell_type": "markdown",
      "source": "Introduction: I studying Msc in Data Science, doing professional work on data analysis.Always keen to learn new things.",
      "metadata": {},
      "id": "04a3c069-4ca0-4a7d-be86-af5acdeeba2c"
    },
    {
      "cell_type": "markdown",
      "source": "Data Science Languages:\n\n    1.Python\n    2.R\n    3.SQL\n    4.Java\n    5.Julia\n    6.Scala",
      "metadata": {},
      "id": "2ea40f3e-bace-46ae-8e3b-ee2b9545eb2c"
    },
    {
      "cell_type": "markdown",
      "source": "Data Science Libraries:\n    1.TensorFlow\n    2.NumPy\n    3.SciPy \n    4.Pandas\n    5.Matplotlib \n    6.Keras\n    7.SciKit-Learn\n    8.PyTorch\n    9.Caffe2\n",
      "metadata": {},
      "id": "38f86c6f-e6bc-46d9-a7b3-2c5789863e5a"
    },
    {
      "cell_type": "markdown",
      "source": "Data science Tools:\n        1.MySQL\n        2.PostgreSQL\n        3.MongoDB\n        4.Apache Cassandra\n        5.Apache Spark\n        6.Apache Hadoop\n        7.Apache Airflow\n        8.Apache Kafka\n        9.Power BI\n        10.Tableau\n        11.Github",
      "metadata": {},
      "id": "8e2b2586-bbbf-421d-932e-4c79fe214714"
    },
    {
      "cell_type": "code",
      "source": "#Arithmetic expression examples\n\na = 40\nb = 12\n  \nadd = a + b\nsub = a - b\npro = a * b\ndiv = a / b\n  \nprint(add)\nprint(sub)\nprint(pro)\nprint(div)",
      "metadata": {
        "trusted": true
      },
      "execution_count": null,
      "outputs": [],
      "id": "5b0f1861-9500-474a-aad6-b7e2b5256092"
    },
    {
      "cell_type": "code",
      "source": "a=5\nb=6\n\nadd = a+b\nmul = a*b\n\nprint(add)\nprint(mul)",
      "metadata": {
        "trusted": true
      },
      "execution_count": null,
      "outputs": [],
      "id": "9f0b9d96-c5c0-4e0a-bcb9-98a7cc569e4c"
    },
    {
      "cell_type": "code",
      "source": "minutes = 3400\n\ncount_hours = minutes/60\n\nprint(count_hours)",
      "metadata": {},
      "execution_count": null,
      "outputs": [],
      "id": "c1636f65-c7a7-45cf-9637-65612c09a889"
    },
    {
      "cell_type": "markdown",
      "source": "Objectives:\n1.Master Data Analysis: Develop strong data analysis skills to be able to extract insights and make data-driven decisions.\n\n2.Familiarize yourself with key data science tools such as Python, R, Jupyter Notebooks, and libraries like pandas and numpy.\n\n3.Learn how to create compelling data visualizations using tools like Matplotlib, Seaborn, or Plotly.\n\n4.Gain a solid understanding of fundamental statistical concepts and techniques commonly used in data science.\n\n5.Get an introduction to machine learning techniques and frameworks like scikit-learn or TensorFlow.\n\n6.Learn how to clean, preprocess, and manipulate data efficiently using tools like pandas.\n\n7.Explore tools for handling and analyzing large datasets, such as Hadoop and Spark.\n\n8.Understand how to work with databases and query languages like SQL for data retrieval and storage.\n\n9.Learn how to use version control systems like Git to manage your data science projects effectively.\n\n\n\n\n\n",
      "metadata": {},
      "id": "bcc7c896-8ba9-4282-8b26-d2ae87153b29"
    },
    {
      "cell_type": "markdown",
      "source": "Author List:\n    1.Lakshmi Holla\n    2.Niveditha Pandith\n\nOther Contributors:\n    1.Rav Ahuja\n    2.Malika Singla",
      "metadata": {},
      "id": "4ef048f9-3c90-4cc3-b05f-1cefc020e444"
    },
    {
      "cell_type": "code",
      "source": "",
      "metadata": {},
      "execution_count": null,
      "outputs": [],
      "id": "c2eadf99-ccae-4b92-be0e-6f2fd9cc3476"
    }
  ]
}